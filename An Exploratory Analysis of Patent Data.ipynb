{
 "cells": [
  {
   "cell_type": "markdown",
   "metadata": {},
   "source": [
    "## An Exploratory Analysis of Patent Data"
   ]
  },
  {
   "cell_type": "markdown",
   "metadata": {},
   "source": [
    "## Purpose of the study:"
   ]
  },
  {
   "cell_type": "markdown",
   "metadata": {},
   "source": [
    "The purpose of this study is:  \n",
    "* to explain my motivation for tackling this problem,  \n",
    "* to discuss the data source(s) I am using,  \n",
    "* to explain the analysis I am performing.  \n",
    "\n",
    "I will explain why this project is viable using exploratory analysis techniques and some interesting statistics.\n"
   ]
  },
  {
   "cell_type": "markdown",
   "metadata": {},
   "source": [
    "## Data Source: "
   ]
  },
  {
   "cell_type": "markdown",
   "metadata": {},
   "source": [
    "As the data source I have used [United States Patent and Trademark Office(USPTO) website](https://www.uspto.gov/learning-and-resources/ip-policy/economic-research/research-datasets). This source have been recommended by [Data is Plural](https://tinyletter.com/data-is-plural/letters/data-is-plural-2017-10-18-edition) on 10/18/2017.    \n",
    "\n",
    "The Institution releases datasets in bulk XML format, csv format, and via APIs to \"_...advance research on matters relevant to intellectual property, entrepreneurship, and innovation_\" and \"_...releases datasets to facilitate economic research on patents and trademarks_\"  \n",
    "\n",
    "The data source includes datasets under below categories:  \n",
    "* __Trademark Case Files Dataset__ : Detailed on millions of trademark applications filed with or registrations issued by the USPTO since 1870  \n",
    "\n",
    "* __Patent Assignment Dataset__: Detailed data patent assignments and other transactions recorded at the USPTO since 1970  \n",
    "\n",
    "* __Trademark Assignment Dataset__: Detailed data on trademark assignments and other transactions recorded at the USPTO since 1955  \n",
    "\n",
    "* __Patent Litigation Docket Reports Data__: Detailed patent litigation data on 74,623 unique district court cases filed during the period 1963-2015  \n",
    "\n",
    "* __PatentsView__: Highly flexible API, search and download query builder, bulk download, and visualization interface for exploring and analyzing 40 years of patent data  \n",
    "\n",
    "* __Patent Claims Research Dataset__: Detailed information on claims from U.S. patents granted between 1976 and 2014 and U.S. patent applications published between 2001 and 2014  \n",
    "\n",
    "* __Cancer Moonshot Patent Data__: Detailed data on published patent applications and granted patents relevant to cancer research and development  \n",
    "\n",
    "* __Patent Examination Research Dataset (Public PAIR)__: Detailed information on 9.2 million publicly viewable patent applications filed with the USPTO through December 2014  \n",
    "\n",
    "* __Historical Patent Data Files__: Time series and micro-level data by high-level NBER technology categories on applications, grants, and in-force patents spanning two centuries of innovation  \n",
    "  \n",
    "    \n",
    "    \n",
    "\n",
    "In these categories, there exist huge amount of data. To illustrate, __Patent Assignment Dataset__ includes 1.2GB of zipped csv data just for 2016. Because it is not efficient to investigate whole dataset at once for a limited time, I will explore a sample amount of data in a specific category for this proposal.  \n",
    "\n",
    "For the exploratory analysis, I will use csv format datasets due to size of raw data and time limitation. The csv format datasets represent recent years (after 2014 generally) and  represents a ver limited time frame. Therefore, they may just provide a \n",
    "\n",
    "However, for the final project, I am planning to use XML format (or API for some) datasets to have a deep insight into the data and have a chance to investigate all the story.\n",
    "\n"
   ]
  },
  {
   "cell_type": "markdown",
   "metadata": {},
   "source": [
    "## Significance of the study"
   ]
  },
  {
   "cell_type": "code",
   "execution_count": null,
   "metadata": {
    "collapsed": true
   },
   "outputs": [],
   "source": []
  }
 ],
 "metadata": {
  "kernelspec": {
   "display_name": "Python [conda env:DAND]",
   "language": "python",
   "name": "conda-env-DAND-py"
  },
  "language_info": {
   "codemirror_mode": {
    "name": "ipython",
    "version": 2
   },
   "file_extension": ".py",
   "mimetype": "text/x-python",
   "name": "python",
   "nbconvert_exporter": "python",
   "pygments_lexer": "ipython2",
   "version": "2.7.12"
  }
 },
 "nbformat": 4,
 "nbformat_minor": 2
}
