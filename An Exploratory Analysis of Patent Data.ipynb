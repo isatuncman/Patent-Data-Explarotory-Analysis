{
 "cells": [
  {
   "cell_type": "markdown",
   "metadata": {},
   "source": [
    "## An Exploratory Analysis of Patent Data"
   ]
  },
  {
   "cell_type": "markdown",
   "metadata": {},
   "source": [
    "## Purpose of the study:"
   ]
  },
  {
   "cell_type": "markdown",
   "metadata": {},
   "source": [
    "The purpose of this study is:  \n",
    "* to explain my motivation for tackling this problem,  \n",
    "* to discuss the data source(s) I am using,  \n",
    "* to explain the analysis I am performing.  \n",
    "\n",
    "I will explain why this project is viable using exploratory analysis techniques and some interesting statistics.\n"
   ]
  },
  {
   "cell_type": "markdown",
   "metadata": {},
   "source": [
    "## Data Source: "
   ]
  },
  {
   "cell_type": "markdown",
   "metadata": {},
   "source": [
    "As the data source I have used [United States Patent and Trademark Office(USPTO) website](https://www.uspto.gov/learning-and-resources/ip-policy/economic-research/research-datasets). This source have been recommended by [Data is Plural](https://tinyletter.com/data-is-plural/letters/data-is-plural-2017-10-18-edition) on 10/18/2017.    \n",
    "\n",
    "The Institution releases datasets in bulk XML format, csv format, and via APIs to \"_...advance research on matters relevant to intellectual property, entrepreneurship, and innovation_\" and \"_...releases datasets to facilitate economic research on patents and trademarks_\"  \n",
    "\n",
    "The data source includes datasets under below categories:  \n",
    "* __Trademark Case Files Dataset__ : Detailed on millions of trademark applications filed with or registrations issued by the USPTO since 1870  \n",
    "\n",
    "* __Patent Assignment Dataset__: Detailed data patent assignments and other transactions recorded at the USPTO since 1970  \n",
    "\n",
    "* __Trademark Assignment Dataset__: Detailed data on trademark assignments and other transactions recorded at the USPTO since 1955  \n",
    "\n",
    "* __Patent Litigation Docket Reports Data__: Detailed patent litigation data on 74,623 unique district court cases filed during the period 1963-2015  \n",
    "\n",
    "* __PatentsView__: Highly flexible API, search and download query builder, bulk download, and visualization interface for exploring and analyzing 40 years of patent data  \n",
    "\n",
    "* __Patent Claims Research Dataset__: Detailed information on claims from U.S. patents granted between 1976 and 2014 and U.S. patent applications published between 2001 and 2014  \n",
    "\n",
    "* __Cancer Moonshot Patent Data__: Detailed data on published patent applications and granted patents relevant to cancer research and development  \n",
    "\n",
    "* __Patent Examination Research Dataset (Public PAIR)__: Detailed information on 9.2 million publicly viewable patent applications filed with the USPTO through December 2014  \n",
    "\n",
    "* __Historical Patent Data Files__: Time series and micro-level data by high-level NBER technology categories on applications, grants, and in-force patents spanning two centuries of innovation  \n",
    "  \n",
    "    \n",
    "    \n",
    "\n",
    "In these categories, there exist huge amount of data. To illustrate, __Patent Assignment Dataset__ includes 1.2GB of zipped csv data as of 2016 update. Because it is not efficient to investigate whole dataset at once for a limited time, I will explore a sample amount of data in a specific category for this proposal.  \n",
    "\n",
    "For the exploratory analysis, I will use csv format datasets due to size of raw data and time limitation. The csv format datasets represent recent years (after 2014 generally) and  represents a very limited time frame. Therefore, the recent datasets may just provide a cross sectional snapshop.\n",
    "\n",
    "However, for the final project, I am planning to use XML format (or API for some) datasets to have a deep insight into the data and have a chance to investigate all the story.\n",
    "\n"
   ]
  },
  {
   "cell_type": "markdown",
   "metadata": {},
   "source": [
    "## Significance of the study:"
   ]
  },
  {
   "cell_type": "markdown",
   "metadata": {},
   "source": [
    "The patent data has been investigated  by economic researchers for more than 50 years. The USPTO itself also makes research and analysis on the dataset regularly. However, by the improvements in the technology, globalization, change in the daily life neccessities, and improvement in analytics and data science have changed the context a lot. Currently, using powerful computers we are able to __clean__ huge amount of data in a very short time. In addition, using advance __Machine Learning__ techniques, we are able to analyze huge amount of data in a few hours. Furthermore, we can use a significant amount of data to train our models and make much more accurate inferences. In the past, not only it was difficult to reach the data but also it was difficult to apply several ML techniques as we do using gridsearch and pipelines. We  had to sample a very small portion of the data and make inferences due to manual work.  \n",
    "\n",
    "The patent dataset itself is a real treasure. It shows us:\n",
    "* The trends in technology and economy\n",
    "* The quality of research\n",
    "* The differences between states and countries in terms of research quality\n",
    "* Creativity distribution \n",
    "* The brillant ideas to be industrialized\n",
    "\n",
    "Due to the reasons above, I believe that this study will be great contribution to the industry and research."
   ]
  },
  {
   "cell_type": "markdown",
   "metadata": {},
   "source": [
    "##  Exploration:"
   ]
  },
  {
   "cell_type": "code",
   "execution_count": 65,
   "metadata": {
    "collapsed": true
   },
   "outputs": [],
   "source": [
    "import pandas as pd\n",
    "import numpy as np\n",
    "import datetime as dt\n",
    "\n",
    "\n",
    "# Visualization\n",
    "import matplotlib.pyplot as plt\n",
    "import seaborn as sns\n",
    "%matplotlib inline\n"
   ]
  },
  {
   "cell_type": "code",
   "execution_count": 5,
   "metadata": {
    "collapsed": true
   },
   "outputs": [],
   "source": [
    "#assignment_df is the assignment table of Patent Assignment Dataset 2016 Category (size: 1.42 GB).\n",
    "#The assignment data file contains a single entry for each of the 6,328,178 \n",
    "#transactions recorded at the USPTO staring January 1970 and December 2016 (inclusive).\n",
    "assignment_df = pd.read_csv(\"/Users/isatuncman/Documents/Data Incubator Challenge/patent_data/assignment.csv\")"
   ]
  },
  {
   "cell_type": "code",
   "execution_count": 53,
   "metadata": {},
   "outputs": [
    {
     "data": {
      "text/html": [
       "<div>\n",
       "<table border=\"1\" class=\"dataframe\">\n",
       "  <thead>\n",
       "    <tr style=\"text-align: right;\">\n",
       "      <th></th>\n",
       "      <th>rf_id</th>\n",
       "      <th>file_id</th>\n",
       "      <th>cname</th>\n",
       "      <th>caddress_1</th>\n",
       "      <th>caddress_2</th>\n",
       "      <th>caddress_3</th>\n",
       "      <th>caddress_4</th>\n",
       "      <th>reel_no</th>\n",
       "      <th>frame_no</th>\n",
       "      <th>convey_text</th>\n",
       "      <th>record_dt</th>\n",
       "      <th>last_update_dt</th>\n",
       "      <th>page_count</th>\n",
       "      <th>purge_in</th>\n",
       "    </tr>\n",
       "  </thead>\n",
       "  <tbody>\n",
       "    <tr>\n",
       "      <th>0</th>\n",
       "      <td>12800340</td>\n",
       "      <td>1</td>\n",
       "      <td>THOMAS J. ENGELLENNER</td>\n",
       "      <td>LAHIVE &amp; COCKFIELD</td>\n",
       "      <td>60 STATE STREET</td>\n",
       "      <td>SUITE 510</td>\n",
       "      <td>BOSTON, MA 02109</td>\n",
       "      <td>1280</td>\n",
       "      <td>340</td>\n",
       "      <td>ASSIGNMENT OF ASSIGNORS INTEREST (SEE DOCUMENT...</td>\n",
       "      <td>1994-12-30</td>\n",
       "      <td>1999-07-29</td>\n",
       "      <td>2</td>\n",
       "      <td>N</td>\n",
       "    </tr>\n",
       "    <tr>\n",
       "      <th>1</th>\n",
       "      <td>36250888</td>\n",
       "      <td>1</td>\n",
       "      <td>NORTHERN TELECOM LIMITED</td>\n",
       "      <td>PATENT DEPT 265</td>\n",
       "      <td>P.O. BOX 3511 STATION C</td>\n",
       "      <td>OTTAWA ONTARIO CANADA K1Y 4H7</td>\n",
       "      <td>NaN</td>\n",
       "      <td>3625</td>\n",
       "      <td>888</td>\n",
       "      <td>CHANGE OF NAME (SEE DOCUMENT FOR DETAILS).</td>\n",
       "      <td>1979-03-05</td>\n",
       "      <td>2010-09-24</td>\n",
       "      <td>4</td>\n",
       "      <td>N</td>\n",
       "    </tr>\n",
       "    <tr>\n",
       "      <th>2</th>\n",
       "      <td>36340874</td>\n",
       "      <td>1</td>\n",
       "      <td>MORRISON &amp; FOERSTER LLP</td>\n",
       "      <td>GARY E. CANN</td>\n",
       "      <td>345 CALIFORNIA STREET</td>\n",
       "      <td>SAN FRANCISCO, CA 94104-2675</td>\n",
       "      <td>NaN</td>\n",
       "      <td>3634</td>\n",
       "      <td>874</td>\n",
       "      <td>ASSIGNMENT OF ASSIGNORS INTEREST (SEE DOCUMENT...</td>\n",
       "      <td>1979-03-02</td>\n",
       "      <td>1999-08-17</td>\n",
       "      <td>1</td>\n",
       "      <td>N</td>\n",
       "    </tr>\n",
       "    <tr>\n",
       "      <th>3</th>\n",
       "      <td>36340875</td>\n",
       "      <td>1</td>\n",
       "      <td>THOMAS KAYDEN HORSTEMEYER ET AL.</td>\n",
       "      <td>DANIEL A. MCCLURE</td>\n",
       "      <td>100 GALLERIA PARKWAY, STE. 1500</td>\n",
       "      <td>ATLANTA, GA 30339</td>\n",
       "      <td>NaN</td>\n",
       "      <td>3634</td>\n",
       "      <td>875</td>\n",
       "      <td>ASSIGNMENT OF ASSIGNOR'S INTEREST (SEE DOCUMEN...</td>\n",
       "      <td>1979-03-02</td>\n",
       "      <td>1999-08-17</td>\n",
       "      <td>1</td>\n",
       "      <td>N</td>\n",
       "    </tr>\n",
       "    <tr>\n",
       "      <th>4</th>\n",
       "      <td>36920537</td>\n",
       "      <td>1</td>\n",
       "      <td>EHD, INC.</td>\n",
       "      <td>500 GOULD DRIVE</td>\n",
       "      <td>COOKEVILLE, TN 38501</td>\n",
       "      <td>NaN</td>\n",
       "      <td>NaN</td>\n",
       "      <td>3692</td>\n",
       "      <td>537</td>\n",
       "      <td>ASSIGNMENT OF ASSIGNORS INTEREST (SEE DOCUMENT...</td>\n",
       "      <td>1979-09-26</td>\n",
       "      <td>2002-04-06</td>\n",
       "      <td>3</td>\n",
       "      <td>N</td>\n",
       "    </tr>\n",
       "  </tbody>\n",
       "</table>\n",
       "</div>"
      ],
      "text/plain": [
       "      rf_id  file_id                             cname          caddress_1  \\\n",
       "0  12800340        1             THOMAS J. ENGELLENNER  LAHIVE & COCKFIELD   \n",
       "1  36250888        1          NORTHERN TELECOM LIMITED     PATENT DEPT 265   \n",
       "2  36340874        1           MORRISON & FOERSTER LLP        GARY E. CANN   \n",
       "3  36340875        1  THOMAS KAYDEN HORSTEMEYER ET AL.   DANIEL A. MCCLURE   \n",
       "4  36920537        1                         EHD, INC.     500 GOULD DRIVE   \n",
       "\n",
       "                        caddress_2                     caddress_3  \\\n",
       "0                  60 STATE STREET                      SUITE 510   \n",
       "1          P.O. BOX 3511 STATION C  OTTAWA ONTARIO CANADA K1Y 4H7   \n",
       "2            345 CALIFORNIA STREET   SAN FRANCISCO, CA 94104-2675   \n",
       "3  100 GALLERIA PARKWAY, STE. 1500              ATLANTA, GA 30339   \n",
       "4             COOKEVILLE, TN 38501                            NaN   \n",
       "\n",
       "         caddress_4  reel_no  frame_no  \\\n",
       "0  BOSTON, MA 02109     1280       340   \n",
       "1               NaN     3625       888   \n",
       "2               NaN     3634       874   \n",
       "3               NaN     3634       875   \n",
       "4               NaN     3692       537   \n",
       "\n",
       "                                         convey_text   record_dt  \\\n",
       "0  ASSIGNMENT OF ASSIGNORS INTEREST (SEE DOCUMENT...  1994-12-30   \n",
       "1         CHANGE OF NAME (SEE DOCUMENT FOR DETAILS).  1979-03-05   \n",
       "2  ASSIGNMENT OF ASSIGNORS INTEREST (SEE DOCUMENT...  1979-03-02   \n",
       "3  ASSIGNMENT OF ASSIGNOR'S INTEREST (SEE DOCUMEN...  1979-03-02   \n",
       "4  ASSIGNMENT OF ASSIGNORS INTEREST (SEE DOCUMENT...  1979-09-26   \n",
       "\n",
       "  last_update_dt  page_count purge_in  \n",
       "0     1999-07-29           2        N  \n",
       "1     2010-09-24           4        N  \n",
       "2     1999-08-17           1        N  \n",
       "3     1999-08-17           1        N  \n",
       "4     2002-04-06           3        N  "
      ]
     },
     "execution_count": 53,
     "metadata": {},
     "output_type": "execute_result"
    }
   ],
   "source": [
    "assignment_df.head()"
   ]
  },
  {
   "cell_type": "code",
   "execution_count": 4,
   "metadata": {},
   "outputs": [
    {
     "name": "stdout",
     "output_type": "stream",
     "text": [
      "<class 'pandas.core.frame.DataFrame'>\n",
      "RangeIndex: 7239361 entries, 0 to 7239360\n",
      "Data columns (total 14 columns):\n",
      "rf_id             int64\n",
      "file_id           int64\n",
      "cname             object\n",
      "caddress_1        object\n",
      "caddress_2        object\n",
      "caddress_3        object\n",
      "caddress_4        object\n",
      "reel_no           int64\n",
      "frame_no          int64\n",
      "convey_text       object\n",
      "record_dt         object\n",
      "last_update_dt    object\n",
      "page_count        int64\n",
      "purge_in          object\n",
      "dtypes: int64(5), object(9)\n",
      "memory usage: 773.2+ MB\n"
     ]
    }
   ],
   "source": [
    "assignment_df.info()"
   ]
  },
  {
   "cell_type": "code",
   "execution_count": 8,
   "metadata": {},
   "outputs": [
    {
     "data": {
      "text/plain": [
       "7239361"
      ]
     },
     "execution_count": 8,
     "metadata": {},
     "output_type": "execute_result"
    }
   ],
   "source": [
    "# Verify the unique key\n",
    "len(assignment_df['rf_id'].unique())"
   ]
  },
  {
   "cell_type": "code",
   "execution_count": 9,
   "metadata": {},
   "outputs": [
    {
     "data": {
      "text/plain": [
       "166869"
      ]
     },
     "execution_count": 9,
     "metadata": {},
     "output_type": "execute_result"
    }
   ],
   "source": [
    "len(assignment_df['convey_text'].unique())"
   ]
  },
  {
   "cell_type": "code",
   "execution_count": 14,
   "metadata": {},
   "outputs": [
    {
     "data": {
      "text/plain": [
       "1"
      ]
     },
     "execution_count": 14,
     "metadata": {},
     "output_type": "execute_result"
    }
   ],
   "source": [
    "len(assignment_df['purge_in'].unique())"
   ]
  },
  {
   "cell_type": "code",
   "execution_count": 15,
   "metadata": {
    "collapsed": true
   },
   "outputs": [],
   "source": [
    "# The assignee file contains data captured for the assignee(s) for each rf_id in assignment. \n",
    "#It includes the assignee’s name and address (street, city, state/country, postal code).\n",
    "assignee_df = pd.read_csv(\"/Users/isatuncman/Documents/Data Incubator Challenge/patent_data/assignee.csv\")"
   ]
  },
  {
   "cell_type": "code",
   "execution_count": 16,
   "metadata": {},
   "outputs": [
    {
     "data": {
      "text/html": [
       "<div>\n",
       "<table border=\"1\" class=\"dataframe\">\n",
       "  <thead>\n",
       "    <tr style=\"text-align: right;\">\n",
       "      <th></th>\n",
       "      <th>rf_id</th>\n",
       "      <th>ee_name</th>\n",
       "      <th>ee_address_1</th>\n",
       "      <th>ee_address_2</th>\n",
       "      <th>ee_city</th>\n",
       "      <th>ee_state</th>\n",
       "      <th>ee_postcode</th>\n",
       "      <th>ee_country</th>\n",
       "    </tr>\n",
       "  </thead>\n",
       "  <tbody>\n",
       "    <tr>\n",
       "      <th>0</th>\n",
       "      <td>12800340</td>\n",
       "      <td>CHILDREN'S MEDICAL CENTER CORPORATION</td>\n",
       "      <td>55 SHATTUCK STREET BOSTON, MA 02115</td>\n",
       "      <td>NaN</td>\n",
       "      <td>NaN</td>\n",
       "      <td>NaN</td>\n",
       "      <td>NaN</td>\n",
       "      <td>NaN</td>\n",
       "    </tr>\n",
       "    <tr>\n",
       "      <th>1</th>\n",
       "      <td>36250888</td>\n",
       "      <td>NORTHERN TELECOM LIMITED</td>\n",
       "      <td>NaN</td>\n",
       "      <td>NaN</td>\n",
       "      <td>NaN</td>\n",
       "      <td>NaN</td>\n",
       "      <td>NaN</td>\n",
       "      <td>NOT PROVIDED</td>\n",
       "    </tr>\n",
       "    <tr>\n",
       "      <th>2</th>\n",
       "      <td>36340874</td>\n",
       "      <td>PARADYNE CORPORATION</td>\n",
       "      <td>NaN</td>\n",
       "      <td>8550 ULMERTON ROAD</td>\n",
       "      <td>LARGO</td>\n",
       "      <td>FLORIDA</td>\n",
       "      <td>33540</td>\n",
       "      <td>NaN</td>\n",
       "    </tr>\n",
       "    <tr>\n",
       "      <th>3</th>\n",
       "      <td>36340875</td>\n",
       "      <td>PARADYNE CORPORATION</td>\n",
       "      <td>NaN</td>\n",
       "      <td>8550 ULMERTON ROAD</td>\n",
       "      <td>LARGO</td>\n",
       "      <td>FLORIDA</td>\n",
       "      <td>33540</td>\n",
       "      <td>NaN</td>\n",
       "    </tr>\n",
       "    <tr>\n",
       "      <th>4</th>\n",
       "      <td>36920537</td>\n",
       "      <td>EHD, INC.</td>\n",
       "      <td>A TENNESSEE CORPORATION</td>\n",
       "      <td>500 GOULD DRIVE</td>\n",
       "      <td>COOKEVILLE</td>\n",
       "      <td>TENNESSEE</td>\n",
       "      <td>38501</td>\n",
       "      <td>NaN</td>\n",
       "    </tr>\n",
       "  </tbody>\n",
       "</table>\n",
       "</div>"
      ],
      "text/plain": [
       "      rf_id                                ee_name  \\\n",
       "0  12800340  CHILDREN'S MEDICAL CENTER CORPORATION   \n",
       "1  36250888               NORTHERN TELECOM LIMITED   \n",
       "2  36340874                   PARADYNE CORPORATION   \n",
       "3  36340875                   PARADYNE CORPORATION   \n",
       "4  36920537                              EHD, INC.   \n",
       "\n",
       "                          ee_address_1        ee_address_2     ee_city  \\\n",
       "0  55 SHATTUCK STREET BOSTON, MA 02115                 NaN         NaN   \n",
       "1                                  NaN                 NaN         NaN   \n",
       "2                                  NaN  8550 ULMERTON ROAD       LARGO   \n",
       "3                                  NaN  8550 ULMERTON ROAD       LARGO   \n",
       "4              A TENNESSEE CORPORATION     500 GOULD DRIVE  COOKEVILLE   \n",
       "\n",
       "    ee_state ee_postcode    ee_country  \n",
       "0        NaN         NaN           NaN  \n",
       "1        NaN         NaN  NOT PROVIDED  \n",
       "2    FLORIDA       33540           NaN  \n",
       "3    FLORIDA       33540           NaN  \n",
       "4  TENNESSEE       38501           NaN  "
      ]
     },
     "execution_count": 16,
     "metadata": {},
     "output_type": "execute_result"
    }
   ],
   "source": [
    "assignee_df.head()"
   ]
  },
  {
   "cell_type": "code",
   "execution_count": 19,
   "metadata": {},
   "outputs": [
    {
     "data": {
      "text/html": [
       "<div>\n",
       "<table border=\"1\" class=\"dataframe\">\n",
       "  <thead>\n",
       "    <tr style=\"text-align: right;\">\n",
       "      <th></th>\n",
       "      <th>rf_id</th>\n",
       "      <th>file_id</th>\n",
       "      <th>cname</th>\n",
       "      <th>caddress_1</th>\n",
       "      <th>caddress_2</th>\n",
       "      <th>caddress_3</th>\n",
       "      <th>caddress_4</th>\n",
       "      <th>reel_no</th>\n",
       "      <th>frame_no</th>\n",
       "      <th>convey_text</th>\n",
       "      <th>record_dt</th>\n",
       "      <th>last_update_dt</th>\n",
       "      <th>page_count</th>\n",
       "      <th>purge_in</th>\n",
       "    </tr>\n",
       "  </thead>\n",
       "  <tbody>\n",
       "    <tr>\n",
       "      <th>1</th>\n",
       "      <td>36250888</td>\n",
       "      <td>1</td>\n",
       "      <td>NORTHERN TELECOM LIMITED</td>\n",
       "      <td>PATENT DEPT 265</td>\n",
       "      <td>P.O. BOX 3511 STATION C</td>\n",
       "      <td>OTTAWA ONTARIO CANADA K1Y 4H7</td>\n",
       "      <td>NaN</td>\n",
       "      <td>3625</td>\n",
       "      <td>888</td>\n",
       "      <td>CHANGE OF NAME (SEE DOCUMENT FOR DETAILS).</td>\n",
       "      <td>1979-03-05</td>\n",
       "      <td>2010-09-24</td>\n",
       "      <td>4</td>\n",
       "      <td>N</td>\n",
       "    </tr>\n",
       "  </tbody>\n",
       "</table>\n",
       "</div>"
      ],
      "text/plain": [
       "      rf_id  file_id                     cname       caddress_1  \\\n",
       "1  36250888        1  NORTHERN TELECOM LIMITED  PATENT DEPT 265   \n",
       "\n",
       "                caddress_2                     caddress_3 caddress_4  reel_no  \\\n",
       "1  P.O. BOX 3511 STATION C  OTTAWA ONTARIO CANADA K1Y 4H7        NaN     3625   \n",
       "\n",
       "   frame_no                                 convey_text   record_dt  \\\n",
       "1       888  CHANGE OF NAME (SEE DOCUMENT FOR DETAILS).  1979-03-05   \n",
       "\n",
       "  last_update_dt  page_count purge_in  \n",
       "1     2010-09-24           4        N  "
      ]
     },
     "execution_count": 19,
     "metadata": {},
     "output_type": "execute_result"
    }
   ],
   "source": [
    "assignment_df[assignment_df[\"rf_id\"] ==36250888]"
   ]
  },
  {
   "cell_type": "code",
   "execution_count": 21,
   "metadata": {},
   "outputs": [],
   "source": [
    "# the assignor data file contains data recorded for the assignor(s) for each rf_id in assignment..\n",
    "assignor_df = pd.read_csv(\"/Users/isatuncman/Documents/Data Incubator Challenge/patent_data/assignor.csv\")"
   ]
  },
  {
   "cell_type": "code",
   "execution_count": 22,
   "metadata": {},
   "outputs": [
    {
     "data": {
      "text/html": [
       "<div>\n",
       "<table border=\"1\" class=\"dataframe\">\n",
       "  <thead>\n",
       "    <tr style=\"text-align: right;\">\n",
       "      <th></th>\n",
       "      <th>rf_id</th>\n",
       "      <th>or_name</th>\n",
       "      <th>exec_dt</th>\n",
       "      <th>ack_dt</th>\n",
       "    </tr>\n",
       "  </thead>\n",
       "  <tbody>\n",
       "    <tr>\n",
       "      <th>0</th>\n",
       "      <td>12800340</td>\n",
       "      <td>ATALA, ANTHONY</td>\n",
       "      <td>1994-12-22</td>\n",
       "      <td>NaN</td>\n",
       "    </tr>\n",
       "    <tr>\n",
       "      <th>1</th>\n",
       "      <td>36250888</td>\n",
       "      <td>NORTHERN ELECTRIC COMPANY LIMITED</td>\n",
       "      <td>1976-03-01</td>\n",
       "      <td>NaN</td>\n",
       "    </tr>\n",
       "    <tr>\n",
       "      <th>2</th>\n",
       "      <td>36340874</td>\n",
       "      <td>ARMSTRONG, THOMAS R.</td>\n",
       "      <td>1979-02-23</td>\n",
       "      <td>NaN</td>\n",
       "    </tr>\n",
       "    <tr>\n",
       "      <th>3</th>\n",
       "      <td>36340875</td>\n",
       "      <td>ARMSTRONG, THOMAS R.</td>\n",
       "      <td>1979-02-23</td>\n",
       "      <td>NaN</td>\n",
       "    </tr>\n",
       "    <tr>\n",
       "      <th>4</th>\n",
       "      <td>36920537</td>\n",
       "      <td>GOULD INC.</td>\n",
       "      <td>1978-10-31</td>\n",
       "      <td>NaN</td>\n",
       "    </tr>\n",
       "  </tbody>\n",
       "</table>\n",
       "</div>"
      ],
      "text/plain": [
       "      rf_id                            or_name     exec_dt ack_dt\n",
       "0  12800340                     ATALA, ANTHONY  1994-12-22    NaN\n",
       "1  36250888  NORTHERN ELECTRIC COMPANY LIMITED  1976-03-01    NaN\n",
       "2  36340874               ARMSTRONG, THOMAS R.  1979-02-23    NaN\n",
       "3  36340875               ARMSTRONG, THOMAS R.  1979-02-23    NaN\n",
       "4  36920537                         GOULD INC.  1978-10-31    NaN"
      ]
     },
     "execution_count": 22,
     "metadata": {},
     "output_type": "execute_result"
    }
   ],
   "source": [
    "assignor_df.head()"
   ]
  },
  {
   "cell_type": "code",
   "execution_count": 33,
   "metadata": {},
   "outputs": [
    {
     "name": "stdout",
     "output_type": "stream",
     "text": [
      "<class 'pandas.core.frame.DataFrame'>\n",
      "RangeIndex: 16766049 entries, 0 to 16766048\n",
      "Data columns (total 4 columns):\n",
      "rf_id      int64\n",
      "or_name    object\n",
      "exec_dt    object\n",
      "ack_dt     object\n",
      "dtypes: int64(1), object(3)\n",
      "memory usage: 511.7+ MB\n"
     ]
    }
   ],
   "source": [
    "assignor_df.info()"
   ]
  },
  {
   "cell_type": "code",
   "execution_count": 90,
   "metadata": {},
   "outputs": [
    {
     "data": {
      "text/plain": [
       "7239361"
      ]
     },
     "execution_count": 90,
     "metadata": {},
     "output_type": "execute_result"
    }
   ],
   "source": [
    "len(assignor_df['rf_id'].unique())"
   ]
  },
  {
   "cell_type": "code",
   "execution_count": 32,
   "metadata": {},
   "outputs": [
    {
     "data": {
      "text/plain": [
       "7983"
      ]
     },
     "execution_count": 32,
     "metadata": {},
     "output_type": "execute_result"
    }
   ],
   "source": [
    "# Is there any missing value in exec_dt?\n",
    "len(assignor_df[assignor_df['exec_dt'].isnull()])"
   ]
  },
  {
   "cell_type": "markdown",
   "metadata": {},
   "source": [
    "There exist a small amount of null values in execution date."
   ]
  },
  {
   "cell_type": "code",
   "execution_count": 36,
   "metadata": {},
   "outputs": [],
   "source": [
    "# The documentid data file contains identification data for the patent(s) and/or application(s) conveyed in each transaction.\n",
    "documentid_df = pd.read_csv(\"/Users/isatuncman/Documents/Data Incubator Challenge/patent_data/documentid.csv\")"
   ]
  },
  {
   "cell_type": "code",
   "execution_count": 51,
   "metadata": {},
   "outputs": [
    {
     "data": {
      "text/html": [
       "<div>\n",
       "<table border=\"1\" class=\"dataframe\">\n",
       "  <thead>\n",
       "    <tr style=\"text-align: right;\">\n",
       "      <th></th>\n",
       "      <th>rf_id</th>\n",
       "      <th>title</th>\n",
       "      <th>lang</th>\n",
       "      <th>appno_doc_num</th>\n",
       "      <th>appno_date</th>\n",
       "      <th>appno_country</th>\n",
       "      <th>pgpub_doc_num</th>\n",
       "      <th>pgpub_date</th>\n",
       "      <th>pgpub_country</th>\n",
       "      <th>grant_doc_num</th>\n",
       "      <th>grant_date</th>\n",
       "      <th>grant_country</th>\n",
       "    </tr>\n",
       "  </thead>\n",
       "  <tbody>\n",
       "    <tr>\n",
       "      <th>12177340</th>\n",
       "      <td>411880814</td>\n",
       "      <td>ACRYLIC DISPERSIONS WITH MULTI-FUNCTIONAL ACRY...</td>\n",
       "      <td>en</td>\n",
       "      <td>14107176</td>\n",
       "      <td>2013-12-16</td>\n",
       "      <td>US</td>\n",
       "      <td>2.014018e+10</td>\n",
       "      <td>2014-06-26</td>\n",
       "      <td>US</td>\n",
       "      <td>9574101</td>\n",
       "      <td>2017-02-21</td>\n",
       "      <td>US</td>\n",
       "    </tr>\n",
       "    <tr>\n",
       "      <th>12177341</th>\n",
       "      <td>411880825</td>\n",
       "      <td>SYSTEM AND METHOD OF INTERLOCKING TO PROTECT S...</td>\n",
       "      <td>en</td>\n",
       "      <td>14682073</td>\n",
       "      <td>2015-04-08</td>\n",
       "      <td>US</td>\n",
       "      <td>2.015021e+10</td>\n",
       "      <td>2015-07-30</td>\n",
       "      <td>US</td>\n",
       "      <td>NaN</td>\n",
       "      <td>NaN</td>\n",
       "      <td>NaN</td>\n",
       "    </tr>\n",
       "    <tr>\n",
       "      <th>12177342</th>\n",
       "      <td>411880825</td>\n",
       "      <td>SYSTEM AND METHOD OF INTERLOCKING TO PROTECT S...</td>\n",
       "      <td>en</td>\n",
       "      <td>14993887</td>\n",
       "      <td>2016-01-12</td>\n",
       "      <td>US</td>\n",
       "      <td>2.016024e+10</td>\n",
       "      <td>2016-08-18</td>\n",
       "      <td>US</td>\n",
       "      <td>NaN</td>\n",
       "      <td>NaN</td>\n",
       "      <td>NaN</td>\n",
       "    </tr>\n",
       "    <tr>\n",
       "      <th>12177343</th>\n",
       "      <td>411880844</td>\n",
       "      <td>PAIN TREATMENT USING ERK2 INHIBITORS</td>\n",
       "      <td>en</td>\n",
       "      <td>12997836</td>\n",
       "      <td>2010-12-13</td>\n",
       "      <td>US</td>\n",
       "      <td>2.011029e+10</td>\n",
       "      <td>2011-12-01</td>\n",
       "      <td>US</td>\n",
       "      <td>8951979</td>\n",
       "      <td>2015-02-10</td>\n",
       "      <td>US</td>\n",
       "    </tr>\n",
       "    <tr>\n",
       "      <th>12177344</th>\n",
       "      <td>411880849</td>\n",
       "      <td>STABILIZER FOR PIPE HANDLING EQUIPMENT</td>\n",
       "      <td>en</td>\n",
       "      <td>11975858</td>\n",
       "      <td>2007-10-22</td>\n",
       "      <td>US</td>\n",
       "      <td>2.009010e+10</td>\n",
       "      <td>2009-04-23</td>\n",
       "      <td>US</td>\n",
       "      <td>7726394</td>\n",
       "      <td>2010-06-01</td>\n",
       "      <td>US</td>\n",
       "    </tr>\n",
       "  </tbody>\n",
       "</table>\n",
       "</div>"
      ],
      "text/plain": [
       "              rf_id                                              title lang  \\\n",
       "12177340  411880814  ACRYLIC DISPERSIONS WITH MULTI-FUNCTIONAL ACRY...   en   \n",
       "12177341  411880825  SYSTEM AND METHOD OF INTERLOCKING TO PROTECT S...   en   \n",
       "12177342  411880825  SYSTEM AND METHOD OF INTERLOCKING TO PROTECT S...   en   \n",
       "12177343  411880844               PAIN TREATMENT USING ERK2 INHIBITORS   en   \n",
       "12177344  411880849             STABILIZER FOR PIPE HANDLING EQUIPMENT   en   \n",
       "\n",
       "         appno_doc_num  appno_date appno_country  pgpub_doc_num  pgpub_date  \\\n",
       "12177340      14107176  2013-12-16            US   2.014018e+10  2014-06-26   \n",
       "12177341      14682073  2015-04-08            US   2.015021e+10  2015-07-30   \n",
       "12177342      14993887  2016-01-12            US   2.016024e+10  2016-08-18   \n",
       "12177343      12997836  2010-12-13            US   2.011029e+10  2011-12-01   \n",
       "12177344      11975858  2007-10-22            US   2.009010e+10  2009-04-23   \n",
       "\n",
       "         pgpub_country grant_doc_num  grant_date grant_country  \n",
       "12177340            US       9574101  2017-02-21            US  \n",
       "12177341            US           NaN         NaN           NaN  \n",
       "12177342            US           NaN         NaN           NaN  \n",
       "12177343            US       8951979  2015-02-10            US  \n",
       "12177344            US       7726394  2010-06-01            US  "
      ]
     },
     "execution_count": 51,
     "metadata": {},
     "output_type": "execute_result"
    }
   ],
   "source": [
    "documentid_df.tail()"
   ]
  },
  {
   "cell_type": "markdown",
   "metadata": {},
   "source": [
    "**"
   ]
  },
  {
   "cell_type": "markdown",
   "metadata": {},
   "source": [
    "Let's investigate a few specific record from 4 tables"
   ]
  },
  {
   "cell_type": "code",
   "execution_count": 44,
   "metadata": {},
   "outputs": [
    {
     "data": {
      "text/html": [
       "<div>\n",
       "<table border=\"1\" class=\"dataframe\">\n",
       "  <thead>\n",
       "    <tr style=\"text-align: right;\">\n",
       "      <th></th>\n",
       "      <th>rf_id</th>\n",
       "      <th>file_id</th>\n",
       "      <th>cname</th>\n",
       "      <th>caddress_1</th>\n",
       "      <th>caddress_2</th>\n",
       "      <th>caddress_3</th>\n",
       "      <th>caddress_4</th>\n",
       "      <th>reel_no</th>\n",
       "      <th>frame_no</th>\n",
       "      <th>convey_text</th>\n",
       "      <th>record_dt</th>\n",
       "      <th>last_update_dt</th>\n",
       "      <th>page_count</th>\n",
       "      <th>purge_in</th>\n",
       "    </tr>\n",
       "  </thead>\n",
       "  <tbody>\n",
       "    <tr>\n",
       "      <th>0</th>\n",
       "      <td>12800340</td>\n",
       "      <td>1</td>\n",
       "      <td>THOMAS J. ENGELLENNER</td>\n",
       "      <td>LAHIVE &amp; COCKFIELD</td>\n",
       "      <td>60 STATE STREET</td>\n",
       "      <td>SUITE 510</td>\n",
       "      <td>BOSTON, MA 02109</td>\n",
       "      <td>1280</td>\n",
       "      <td>340</td>\n",
       "      <td>ASSIGNMENT OF ASSIGNORS INTEREST (SEE DOCUMENT...</td>\n",
       "      <td>1994-12-30</td>\n",
       "      <td>1999-07-29</td>\n",
       "      <td>2</td>\n",
       "      <td>N</td>\n",
       "    </tr>\n",
       "  </tbody>\n",
       "</table>\n",
       "</div>"
      ],
      "text/plain": [
       "      rf_id  file_id                  cname          caddress_1  \\\n",
       "0  12800340        1  THOMAS J. ENGELLENNER  LAHIVE & COCKFIELD   \n",
       "\n",
       "        caddress_2 caddress_3        caddress_4  reel_no  frame_no  \\\n",
       "0  60 STATE STREET  SUITE 510  BOSTON, MA 02109     1280       340   \n",
       "\n",
       "                                         convey_text   record_dt  \\\n",
       "0  ASSIGNMENT OF ASSIGNORS INTEREST (SEE DOCUMENT...  1994-12-30   \n",
       "\n",
       "  last_update_dt  page_count purge_in  \n",
       "0     1999-07-29           2        N  "
      ]
     },
     "execution_count": 44,
     "metadata": {},
     "output_type": "execute_result"
    }
   ],
   "source": [
    "assignment_df[assignment_df['rf_id']==12800340]\n",
    "\n",
    "\n",
    "\n"
   ]
  },
  {
   "cell_type": "code",
   "execution_count": 39,
   "metadata": {},
   "outputs": [
    {
     "data": {
      "text/html": [
       "<div>\n",
       "<table border=\"1\" class=\"dataframe\">\n",
       "  <thead>\n",
       "    <tr style=\"text-align: right;\">\n",
       "      <th></th>\n",
       "      <th>rf_id</th>\n",
       "      <th>ee_name</th>\n",
       "      <th>ee_address_1</th>\n",
       "      <th>ee_address_2</th>\n",
       "      <th>ee_city</th>\n",
       "      <th>ee_state</th>\n",
       "      <th>ee_postcode</th>\n",
       "      <th>ee_country</th>\n",
       "    </tr>\n",
       "  </thead>\n",
       "  <tbody>\n",
       "    <tr>\n",
       "      <th>0</th>\n",
       "      <td>12800340</td>\n",
       "      <td>CHILDREN'S MEDICAL CENTER CORPORATION</td>\n",
       "      <td>55 SHATTUCK STREET BOSTON, MA 02115</td>\n",
       "      <td>NaN</td>\n",
       "      <td>NaN</td>\n",
       "      <td>NaN</td>\n",
       "      <td>NaN</td>\n",
       "      <td>NaN</td>\n",
       "    </tr>\n",
       "  </tbody>\n",
       "</table>\n",
       "</div>"
      ],
      "text/plain": [
       "      rf_id                                ee_name  \\\n",
       "0  12800340  CHILDREN'S MEDICAL CENTER CORPORATION   \n",
       "\n",
       "                          ee_address_1 ee_address_2 ee_city ee_state  \\\n",
       "0  55 SHATTUCK STREET BOSTON, MA 02115          NaN     NaN      NaN   \n",
       "\n",
       "  ee_postcode ee_country  \n",
       "0         NaN        NaN  "
      ]
     },
     "execution_count": 39,
     "metadata": {},
     "output_type": "execute_result"
    }
   ],
   "source": [
    "assignee_df[assignee_df['rf_id']==12800340]"
   ]
  },
  {
   "cell_type": "code",
   "execution_count": 40,
   "metadata": {},
   "outputs": [
    {
     "data": {
      "text/html": [
       "<div>\n",
       "<table border=\"1\" class=\"dataframe\">\n",
       "  <thead>\n",
       "    <tr style=\"text-align: right;\">\n",
       "      <th></th>\n",
       "      <th>rf_id</th>\n",
       "      <th>or_name</th>\n",
       "      <th>exec_dt</th>\n",
       "      <th>ack_dt</th>\n",
       "    </tr>\n",
       "  </thead>\n",
       "  <tbody>\n",
       "    <tr>\n",
       "      <th>0</th>\n",
       "      <td>12800340</td>\n",
       "      <td>ATALA, ANTHONY</td>\n",
       "      <td>1994-12-22</td>\n",
       "      <td>NaN</td>\n",
       "    </tr>\n",
       "  </tbody>\n",
       "</table>\n",
       "</div>"
      ],
      "text/plain": [
       "      rf_id         or_name     exec_dt ack_dt\n",
       "0  12800340  ATALA, ANTHONY  1994-12-22    NaN"
      ]
     },
     "execution_count": 40,
     "metadata": {},
     "output_type": "execute_result"
    }
   ],
   "source": [
    "assignor_df[assignor_df['rf_id']==12800340]"
   ]
  },
  {
   "cell_type": "code",
   "execution_count": 46,
   "metadata": {
    "collapsed": true
   },
   "outputs": [],
   "source": [
    "# assignment_conveyance is a constructed data file containing the conveyance type (convey_ty) and an ”employer assignment” indicator (intrafirm) for each rf_id. [\n",
    "assignment_conveyance_df = pd.read_csv(\"/Users/isatuncman/Documents/Data Incubator Challenge/patent_data/assignment_conveyance.csv\")"
   ]
  },
  {
   "cell_type": "code",
   "execution_count": 47,
   "metadata": {},
   "outputs": [
    {
     "data": {
      "text/html": [
       "<div>\n",
       "<table border=\"1\" class=\"dataframe\">\n",
       "  <thead>\n",
       "    <tr style=\"text-align: right;\">\n",
       "      <th></th>\n",
       "      <th>rf_id</th>\n",
       "      <th>convey_ty</th>\n",
       "      <th>employer_assign</th>\n",
       "    </tr>\n",
       "  </thead>\n",
       "  <tbody>\n",
       "    <tr>\n",
       "      <th>0</th>\n",
       "      <td>12800340</td>\n",
       "      <td>assignment</td>\n",
       "      <td>1</td>\n",
       "    </tr>\n",
       "    <tr>\n",
       "      <th>1</th>\n",
       "      <td>36250888</td>\n",
       "      <td>namechg</td>\n",
       "      <td>0</td>\n",
       "    </tr>\n",
       "    <tr>\n",
       "      <th>2</th>\n",
       "      <td>36340874</td>\n",
       "      <td>assignment</td>\n",
       "      <td>1</td>\n",
       "    </tr>\n",
       "    <tr>\n",
       "      <th>3</th>\n",
       "      <td>36340875</td>\n",
       "      <td>assignment</td>\n",
       "      <td>1</td>\n",
       "    </tr>\n",
       "    <tr>\n",
       "      <th>4</th>\n",
       "      <td>36920537</td>\n",
       "      <td>assignment</td>\n",
       "      <td>0</td>\n",
       "    </tr>\n",
       "  </tbody>\n",
       "</table>\n",
       "</div>"
      ],
      "text/plain": [
       "      rf_id   convey_ty  employer_assign\n",
       "0  12800340  assignment                1\n",
       "1  36250888     namechg                0\n",
       "2  36340874  assignment                1\n",
       "3  36340875  assignment                1\n",
       "4  36920537  assignment                0"
      ]
     },
     "execution_count": 47,
     "metadata": {},
     "output_type": "execute_result"
    }
   ],
   "source": [
    "assignment_conveyance_df.head()"
   ]
  },
  {
   "cell_type": "code",
   "execution_count": 49,
   "metadata": {},
   "outputs": [],
   "source": [
    "# This is a constructed data file containing the rf_id, application number, and patent number \n",
    "#from documentid and matching application and patent \n",
    "#number from USPTO administrative records (indicated by the prefix admin_). \n",
    "documentid_admin_df = pd.read_csv(\"/Users/isatuncman/Documents/Data Incubator Challenge/patent_data/documentid_admin.csv\")"
   ]
  },
  {
   "cell_type": "code",
   "execution_count": 50,
   "metadata": {},
   "outputs": [
    {
     "data": {
      "text/html": [
       "<div>\n",
       "<table border=\"1\" class=\"dataframe\">\n",
       "  <thead>\n",
       "    <tr style=\"text-align: right;\">\n",
       "      <th></th>\n",
       "      <th>rf_id</th>\n",
       "      <th>appno_doc_num</th>\n",
       "      <th>grant_doc_num</th>\n",
       "      <th>admin_appl_id_for_grant</th>\n",
       "      <th>admin_pat_no_for_appno</th>\n",
       "      <th>error</th>\n",
       "    </tr>\n",
       "  </thead>\n",
       "  <tbody>\n",
       "    <tr>\n",
       "      <th>0</th>\n",
       "      <td>173530157</td>\n",
       "      <td>NaN</td>\n",
       "      <td>0489945</td>\n",
       "      <td>NaN</td>\n",
       "      <td>NaN</td>\n",
       "      <td>missing appno_doc_num</td>\n",
       "    </tr>\n",
       "    <tr>\n",
       "      <th>1</th>\n",
       "      <td>46760234</td>\n",
       "      <td>NaN</td>\n",
       "      <td>4031087</td>\n",
       "      <td>NaN</td>\n",
       "      <td>NaN</td>\n",
       "      <td>missing appno_doc_num</td>\n",
       "    </tr>\n",
       "    <tr>\n",
       "      <th>2</th>\n",
       "      <td>51840184</td>\n",
       "      <td>NaN</td>\n",
       "      <td>3928770</td>\n",
       "      <td>NaN</td>\n",
       "      <td>NaN</td>\n",
       "      <td>missing appno_doc_num</td>\n",
       "    </tr>\n",
       "    <tr>\n",
       "      <th>3</th>\n",
       "      <td>71320277</td>\n",
       "      <td>NaN</td>\n",
       "      <td>3909022</td>\n",
       "      <td>NaN</td>\n",
       "      <td>NaN</td>\n",
       "      <td>missing appno_doc_num</td>\n",
       "    </tr>\n",
       "    <tr>\n",
       "      <th>4</th>\n",
       "      <td>197540914</td>\n",
       "      <td>NaN</td>\n",
       "      <td>0470036</td>\n",
       "      <td>NaN</td>\n",
       "      <td>NaN</td>\n",
       "      <td>missing appno_doc_num</td>\n",
       "    </tr>\n",
       "  </tbody>\n",
       "</table>\n",
       "</div>"
      ],
      "text/plain": [
       "       rf_id appno_doc_num grant_doc_num  admin_appl_id_for_grant  \\\n",
       "0  173530157           NaN       0489945                      NaN   \n",
       "1   46760234           NaN       4031087                      NaN   \n",
       "2   51840184           NaN       3928770                      NaN   \n",
       "3   71320277           NaN       3909022                      NaN   \n",
       "4  197540914           NaN       0470036                      NaN   \n",
       "\n",
       "  admin_pat_no_for_appno                  error  \n",
       "0                    NaN  missing appno_doc_num  \n",
       "1                    NaN  missing appno_doc_num  \n",
       "2                    NaN  missing appno_doc_num  \n",
       "3                    NaN  missing appno_doc_num  \n",
       "4                    NaN  missing appno_doc_num  "
      ]
     },
     "execution_count": 50,
     "metadata": {},
     "output_type": "execute_result"
    }
   ],
   "source": [
    "documentid_admin_df.head()"
   ]
  },
  {
   "cell_type": "markdown",
   "metadata": {},
   "source": [
    "## Exploratory questions:"
   ]
  },
  {
   "cell_type": "markdown",
   "metadata": {},
   "source": [
    "### Question 1) How does the number of patent applications change every year?"
   ]
  },
  {
   "cell_type": "code",
   "execution_count": 54,
   "metadata": {
    "collapsed": true
   },
   "outputs": [],
   "source": [
    "yearly_patent_records = assignment_df[['rf_id', 'record_dt']].copy()"
   ]
  },
  {
   "cell_type": "code",
   "execution_count": 55,
   "metadata": {},
   "outputs": [
    {
     "data": {
      "text/html": [
       "<div>\n",
       "<table border=\"1\" class=\"dataframe\">\n",
       "  <thead>\n",
       "    <tr style=\"text-align: right;\">\n",
       "      <th></th>\n",
       "      <th>rf_id</th>\n",
       "      <th>record_dt</th>\n",
       "    </tr>\n",
       "  </thead>\n",
       "  <tbody>\n",
       "    <tr>\n",
       "      <th>0</th>\n",
       "      <td>12800340</td>\n",
       "      <td>1994-12-30</td>\n",
       "    </tr>\n",
       "    <tr>\n",
       "      <th>1</th>\n",
       "      <td>36250888</td>\n",
       "      <td>1979-03-05</td>\n",
       "    </tr>\n",
       "    <tr>\n",
       "      <th>2</th>\n",
       "      <td>36340874</td>\n",
       "      <td>1979-03-02</td>\n",
       "    </tr>\n",
       "    <tr>\n",
       "      <th>3</th>\n",
       "      <td>36340875</td>\n",
       "      <td>1979-03-02</td>\n",
       "    </tr>\n",
       "    <tr>\n",
       "      <th>4</th>\n",
       "      <td>36920537</td>\n",
       "      <td>1979-09-26</td>\n",
       "    </tr>\n",
       "  </tbody>\n",
       "</table>\n",
       "</div>"
      ],
      "text/plain": [
       "      rf_id   record_dt\n",
       "0  12800340  1994-12-30\n",
       "1  36250888  1979-03-05\n",
       "2  36340874  1979-03-02\n",
       "3  36340875  1979-03-02\n",
       "4  36920537  1979-09-26"
      ]
     },
     "execution_count": 55,
     "metadata": {},
     "output_type": "execute_result"
    }
   ],
   "source": [
    "yearly_patent_records.head()"
   ]
  },
  {
   "cell_type": "code",
   "execution_count": 56,
   "metadata": {
    "collapsed": true
   },
   "outputs": [],
   "source": [
    "yearly_patent_records['record_dt'] = pd.to_datetime(yearly_patent_records['record_dt'])"
   ]
  },
  {
   "cell_type": "code",
   "execution_count": 59,
   "metadata": {},
   "outputs": [
    {
     "name": "stdout",
     "output_type": "stream",
     "text": [
      "<class 'pandas.core.frame.DataFrame'>\n",
      "RangeIndex: 7239361 entries, 0 to 7239360\n",
      "Data columns (total 2 columns):\n",
      "rf_id        int64\n",
      "record_dt    datetime64[ns]\n",
      "dtypes: datetime64[ns](1), int64(1)\n",
      "memory usage: 110.5 MB\n"
     ]
    }
   ],
   "source": [
    "yearly_patent_records.info()"
   ]
  },
  {
   "cell_type": "code",
   "execution_count": 85,
   "metadata": {},
   "outputs": [],
   "source": [
    "yearly_patent_records['year'] = yearly_patent_records['record_dt'].dt.year"
   ]
  },
  {
   "cell_type": "code",
   "execution_count": 86,
   "metadata": {},
   "outputs": [],
   "source": [
    "per_year_patent_count = yearly_patent_records.groupby('year').count()"
   ]
  },
  {
   "cell_type": "code",
   "execution_count": 89,
   "metadata": {},
   "outputs": [
    {
     "data": {
      "image/png": "[encoded data removed]",
      "text/plain": [
       "<matplotlib.figure.Figure at 0x224bd6390>"
      ]
     },
     "metadata": {},
     "output_type": "display_data"
    }
   ],
   "source": [
    "_ = plt.plot(per_year_patent_count['rf_id'])\n",
    "_ = plt.title('Yearly Patent Applications')\n",
    "_ = plt.ylabel('Number of Patent Applications')\n",
    "_ = plt.xlabel('Years')\n",
    "_ = plt.xticks([1970, 1975, 1980, 1985, 1990, 1995, 2000, 2005, 2010, 2015])\n",
    "plt.show()"
   ]
  },
  {
   "cell_type": "markdown",
   "metadata": {},
   "source": [
    "I can be observed that there exist an exponential positive trend in annual patent application numbers. In economic downturns, there exist drops (as in 2008). The cyclic trend can also be observed in 2000 and 2005 interval."
   ]
  },
  {
   "cell_type": "markdown",
   "metadata": {},
   "source": [
    "### What is the number of executions each year?\n"
   ]
  },
  {
   "cell_type": "markdown",
   "metadata": {},
   "source": []
  },
  {
   "cell_type": "markdown",
   "metadata": {},
   "source": [
    "### Question: What is the most common words in patent titles each year?\n"
   ]
  },
  {
   "cell_type": "code",
   "execution_count": null,
   "metadata": {
    "collapsed": true
   },
   "outputs": [],
   "source": []
  },
  {
   "cell_type": "code",
   "execution_count": null,
   "metadata": {
    "collapsed": true
   },
   "outputs": [],
   "source": []
  }
 ],
 "metadata": {
  "kernelspec": {
   "display_name": "Python [conda env:DAND]",
   "language": "python",
   "name": "conda-env-DAND-py"
  },
  "language_info": {
   "codemirror_mode": {
    "name": "ipython",
    "version": 2
   },
   "file_extension": ".py",
   "mimetype": "text/x-python",
   "name": "python",
   "nbconvert_exporter": "python",
   "pygments_lexer": "ipython2",
   "version": "2.7.12"
  }
 },
 "nbformat": 4,
 "nbformat_minor": 2
}
